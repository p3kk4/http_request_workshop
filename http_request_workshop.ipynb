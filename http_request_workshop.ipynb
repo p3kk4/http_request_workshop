{
  "cells": [
    {
      "cell_type": "markdown",
      "metadata": {
        "id": "kIUkr5Fattal"
      },
      "source": [
        "# HTTP Request Worksop\n",
        "\n",
        "<div class=\"row\">\n",
        "  <div class=\"column\">\n",
        "    <img src=\"https://pekkakorpi-tassi.fi/img/logo_v1.8.png\"  width=400>\n",
        "  </div>\n",
        "</div>\n",
        "\n",
        "Welcome to the **HTTP Request Workshop** by [pekkakorpi-tassi.fi](https://pekkakorpi-tassi.fi)!\n",
        "\n",
        "## Overview\n",
        "\n",
        "HTTP Request Workshop is available through pekkakorpi-tassi.fi website. The workshop consists of following key resources:\n",
        "\n",
        "- Main page of the workshop published on [pekkakorpi-tassi.fi](https://pekkakorpi-tassi.fi/materials/http_request_workshop.html) website.\n",
        "- REST API that allow learners to explore and learn about HTTP Requests.\n",
        "- Interactive Jupyter Notebook on [GitHub](https://github.com/p3kk4/http_request_workshop) helps learners to explore HTTP Requests and associated technologies by running Python code that contains technical arrangements to test the REST API.\n",
        "- ***API documentation for the REST API that acts as a technology demonstrator and as a general example about API documentation.***\n",
        "\n",
        "This Jupyter Notebook (.ipynb) file can be opened in [Google Colab](https://colab.research.google.com) or [Binder](https://mybinder.org/) can be used for self-paced learning, although it is primarily meant to be complemented by instructor-led workshops. During the workshops learners can engage in hands-on learning activities and building their own documentation while exploring HTTP Requests.\n",
        "\n",
        "## HTTP Protocol\n",
        "\n",
        "HTTP acronym stands for Hyper-Text Transfer Protocol and it is the most important **top level** data exchange protocol of the Internet. HTTP works on Application Layer (Layer 7) of Open Systems Interconnect (OSI) reference model. Important additional protocols related to HTTP protocol are Transport Layer Security (TLS) protocol and Domain Name System (DNS) protocol. Technically HTTP protocol works on TCP/IP Protocol stack (IP Protocol, TCP Protocol) that are part of the lower OSI reference model Layers. HTTP Protocol most often works through Uniform Resource Locators (URL), which everybody uses. As you type https://google.com to the address bar of the browser you are typing URL.\n",
        "\n",
        "Here is a collection of some relevant terms that you should be aware about related to the HTTP Protocol:\n",
        "\n",
        "- URL indicates human friendly name for a server application to be contacted.\n",
        "- Scheme (http:// or https://) indicates if connection is to be encrypted.\n",
        "- DNS name resolution is used to discover Public IP Address of the server.\n",
        "- HTTP Protocol is the message system client uses to exchange data with the server.\n",
        "- TCP Protocol + IP Address is what exchanges data between different networks.\n",
        "- Public IP Address indicates the network that the server is part of.\n",
        "- TCP Port (default 80 for http and default 443 for https) indicates application on the server.\n",
        "- Ethernet Protocol + MAC Address is what exchanges data within the same network.\n",
        "- MAC Address indicates unique network interface card.\n",
        "\n",
        "In this workshop we want to explore HTTP Protocol specifically. Most people are actively (sometimes unknowingly) using a single HTTP method...:\n",
        "\n",
        "- GET\n",
        "\n",
        "...but at the same time they are also (frequently unknowingly) using 8 other HTTP methods:\n",
        "\n",
        "- HEAD\n",
        "- OPTIONS\n",
        "- PUT\n",
        "- POST\n",
        "- DELETE\n",
        "- PATCH\n",
        "- CONNECT\n",
        "- TRACE\n",
        "\n",
        "Learning objective of this workshop is to make learners more aware about the HTTP protocol and how it works. This is an important ICT skill that helps people to understand the Internet and web services. Understanding many Pubic Cloud topics is superficial if learner has inadequate grasp on the OSI reference model and role of HTTP Protocol in it and relevance of HTTP Protocol to their lives.\n",
        "\n",
        "## Understanding URL\n",
        "\n",
        "A good starting point to understand HTTP Protocol is to understand URL. It is URL that people and systems frequently use as they communicate between other systems over the Internet. You can check supportive diagram made available through [pekkakorpi-tassi.fi](https://pekkakorpi-tassi.fi/materials/understanding_url.html) website, but there is a wealth of material available on the Internet or through generative AIs to learn specifics about URL. Understanding how URL is structured helps you to associate each structural part to OSI Reference Model and how data transfer over the Internet happens."
      ]
    },
    {
      "cell_type": "markdown",
      "metadata": {},
      "source": [
        "## Prepare Notebook for Workshop\n",
        "\n",
        "Jupyter Notebook technology is really interesting. You can include Text Cells and Code Cells within the Jupyter Notebook in an interesting way that allows for building interatice notebooks that contain and allow execution of Python code mixed in with text blocks. Python Notebook is a notebook and code runtime at the same time!\n",
        "\n",
        "You can execute Python code within Code Cells by executing code from **Play** type button on top left corner of each Code Cell. Code is executed and results are displayed in an Output Cell below the Code Cell. All outcomes from executing Code Cells on previous Code Cells affect the context of following Code Cells. This means, that if you do execute code and store results in variables in one Code Cell, you can use these results in following Code Cells. This makes for an interesting and interactive learning environment!\n",
        "\n",
        "In this first Code Cell of this notebook we add necessary Python libraries to our code execution environment so that we can leverage functionalities of those libraries to perform HTTP Protocol testing against api.pekkakorpi-tassi.fi.\n",
        "\n",
        "**Execute first Code Cell now!**"
      ]
    },
    {
      "cell_type": "code",
      "execution_count": null,
      "metadata": {},
      "outputs": [],
      "source": [
        "# Import Python Libraries\n",
        "import requests\n",
        "import json\n",
        "from pprint import pprint\n",
        "import socket\n",
        "\n",
        "!pip install icmplib\n",
        "from icmplib import ping, traceroute\n",
        "\n",
        "# Setup Common Variables\n",
        "default_headers = {\n",
        "    'user-agent': 'http-request-workshop/colab',\n",
        "    'sec-ch-ua': 'fake browser',\n",
        "    'sec-ch-ua-platform': 'fake os'\n",
        "}\n",
        "default_payload = {'animal': 'platypus', 'name': 'flappy'}\n",
        "\n",
        "# Helper Function to print indented JSON\n",
        "def pretty_json_print(data):\n",
        "  pretty_json = json.dumps(data, indent=3)\n",
        "  print(pretty_json)\n",
        "\n",
        "# Get Python Notebook environment IP Address\n",
        "def get_my_ip():\n",
        "  hostname=socket.gethostname()\n",
        "  ipaddress=socket.gethostbyname(hostname)\n",
        "  return ipaddress\n",
        "\n",
        "# Get IP Address of specified hostname\n",
        "def get_ip_from_hostname(hostname):\n",
        "  ipaddress=socket.gethostbyname(hostname)\n",
        "  return ipaddress"
      ]
    },
    {
      "cell_type": "code",
      "execution_count": null,
      "metadata": {},
      "outputs": [],
      "source": [
        "# Investigate Public IPv4 Address behind specified hostname by resolving URL by using Domain Name System to Public IPv4 Address\n",
        "\n",
        "example_hostname = 'www.haaga-helia.fi'\n",
        "example_ip = get_ip_from_hostname(example_hostname)\n",
        "\n",
        "print(dns_example_hostname + ' resolved as Public IPv4 Address: ' + example_ip)"
      ]
    },
    {
      "cell_type": "markdown",
      "metadata": {
        "id": "1G9RDqfTHQVD"
      },
      "source": [
        "# Ping\n",
        "  \n",
        "ping command is used to measure round-trip latency (that is delay associated to transfer of the data package from source to destination server and receiving reply about the receival of the data package) between source and destination devices. Latency is often declared in milliseconds."
      ]
    },
    {
      "cell_type": "code",
      "execution_count": null,
      "metadata": {
        "colab": {
          "base_uri": "https://localhost:8080/"
        },
        "id": "qu_Kl8PMHRD-",
        "outputId": "170782c1-39a7-4fdf-8143-080a759b1d05"
      },
      "outputs": [],
      "source": [
        "# Test latency 2 times with 20ms interval between each test\n",
        "# HOX: Note that some services have blocked Ping!\n",
        "host = ping(ip_address, count=2, interval=0.2)\n",
        "host.rtts"
      ]
    },
    {
      "cell_type": "code",
      "execution_count": null,
      "metadata": {
        "colab": {
          "base_uri": "https://localhost:8080/"
        },
        "id": "3vtIM8lFJmAz",
        "outputId": "7f8e236d-fe00-4f9f-d96d-34fcffc33ef2"
      },
      "outputs": [],
      "source": [
        "# What percentage (1.0 is 100%, 0.0 is 0%) of packages was lost?\n",
        "host.packet_loss"
      ]
    },
    {
      "cell_type": "code",
      "execution_count": null,
      "metadata": {
        "colab": {
          "base_uri": "https://localhost:8080/"
        },
        "id": "ql1_QUZGI08Y",
        "outputId": "a5cad769-3414-4b00-840d-e9256ff1654b"
      },
      "outputs": [],
      "source": [
        "# Test latency 3 times with 20ms interval between ping\n",
        "# HOX: Using Google's Public DNS Service to test ping\n",
        "google_dns_ip_address = '8.8.8.8'\n",
        "host = ping(google_dns_ip_address, count=3, interval=0.2)\n",
        "host.rtts"
      ]
    },
    {
      "cell_type": "code",
      "execution_count": null,
      "metadata": {
        "colab": {
          "base_uri": "https://localhost:8080/"
        },
        "id": "i8BfOPOsJ5wi",
        "outputId": "18d1f1aa-1700-4ef4-d851-805af0387fbd"
      },
      "outputs": [],
      "source": [
        "# What percentage (1.0 is 100%, 0.0 is 0%) of packages was lost?\n",
        "host.packet_loss"
      ]
    },
    {
      "cell_type": "markdown",
      "metadata": {
        "id": "8vYYIOZZKHK3"
      },
      "source": [
        "# Traceroute\n",
        "\n",
        "Routing over the Internet refers to the process of finding a path for network traffic to travel from the source (network and device) to the destination (network and device). Routing happens through Borger Gateway Protocol (BGP) that has the ability to find the route to destination through Autonomous System networks. Routing uses Public IP Address to determine the destination network, which is responsible for redirecting network traffic to the device that Public IP Address is associated to. Data transfer within local network happens by using MAC Address of the target device.\n",
        "\n",
        "traceroute command can be used to display the path that a packet takes to reach a destination. It lists all the routers it passes through until it reaches its destination, or fails to and is discarded. Each router represents a hop in the path. In the traceroute output, the term \"gateway\" is used to denote the device that is routing the traffic. This could be a router, a modem, or any other device that performs this function."
      ]
    },
    {
      "cell_type": "code",
      "execution_count": null,
      "metadata": {
        "colab": {
          "base_uri": "https://localhost:8080/"
        },
        "id": "heE_r9mzWRyS",
        "outputId": "1835eb9c-0283-4cdf-eef3-90514b942328"
      },
      "outputs": [],
      "source": [
        "# Let's check what is IP address where requests are originating from (service executing Python code in Jupyter Notebook)...\n",
        "colab_ip = get_my_ip()\n",
        "colab_ipinfo = requests.get(f'https://ipinfo.io/{colab_ip}').json()\n",
        "pretty_json_print(colab_ipinfo)"
      ]
    },
    {
      "cell_type": "code",
      "execution_count": null,
      "metadata": {
        "colab": {
          "base_uri": "https://localhost:8080/"
        },
        "id": "Tisb7xnSXYys",
        "outputId": "eab643af-27fb-40e4-9cb9-1ca330999a12"
      },
      "outputs": [],
      "source": [
        "# You can also check information about your computer's IP address and IP information...\n",
        "# https://whatismyipaddress.com/\n",
        "your_ip = '?.?.?.?'\n",
        "your_ipinfo = requests.get(f'https://ipinfo.io/{your_ip}').json()\n",
        "pretty_json_print(your_ipinfo)\n"
      ]
    },
    {
      "cell_type": "code",
      "execution_count": null,
      "metadata": {
        "colab": {
          "base_uri": "https://localhost:8080/"
        },
        "id": "0oDDRQvvKPGo",
        "outputId": "d96ef6d2-9abc-46a4-ed26-b3de8c9cb024"
      },
      "outputs": [],
      "source": [
        "fqdn_tracert = 'perth.wa.gov.au'\n",
        "#fqdn_tracert = 'www.haaga-helia.fi'\n",
        "#fqdn_tracert = 'twitter.com'\n",
        "#fqdn_tracert = 'icann.org'\n",
        "\n",
        "ip_address_tracert = socket.gethostbyname(fqdn_tracert)\n",
        "\n",
        "hops = traceroute(ip_address_tracert)\n",
        "\n",
        "print('Distance/TTL    Organization    City    Address    Average round-trip time')\n",
        "last_distance = 0\n",
        "\n",
        "for hop in hops:\n",
        "  if last_distance + 1 != hop.distance:\n",
        "    print('Some gateways are not responding')\n",
        "    # See the Hop class for details\n",
        "  hop_ipinfo = requests.get(f'https://ipinfo.io/{hop.address}').json()\n",
        "  hop_city = 'unknown'\n",
        "  hop_org = 'unknown'\n",
        "  if \"org\" in hop_ipinfo:\n",
        "    hop_org = hop_ipinfo[\"org\"]\n",
        "  if \"city\" in hop_ipinfo:\n",
        "    hop_city = hop_ipinfo[\"city\"]\n",
        "  print(f'{hop.distance}   {hop_org}    {hop_city}   {hop.address}    {hop.avg_rtt} ms')\n",
        "  last_distance = hop.distance"
      ]
    },
    {
      "cell_type": "markdown",
      "metadata": {},
      "source": [
        "# Online Shop Scenario\n",
        "\n",
        "In this workshop as learners are exploring different HTTP Requests we can imagine HTTP Requests are being sent by web browser of a person who is in middle of the process of browsing and buying cat plushies (soft animal toys) from Online Shop. For each HTTP Request type we will try to give an example in what context each request might be used. API that will be used during this workshop is not built to work like online shop, but it works as a system that analyzes received HTTP Request and tells information about each processed HTTP request."
      ]
    },
    {
      "cell_type": "markdown",
      "metadata": {
        "id": "cw1gJIm7ttap"
      },
      "source": [
        "## HTTP Request OPTIONS\n",
        "\n",
        "**HTTP Request OPTIONS** is used to get communication options (the supported methods, headers, or other capabilities) of the API for the specified resource.\n",
        "\n",
        "[Detailed Information](https://developer.mozilla.org/en-US/docs/Web/HTTP/Methods/OPTIONS)\n",
        "\n",
        "**Online Shop Scenario:** Retrieving information about supported methods for a resource. Request OPTIONS to /plushies. Purpose is to retrieve information about the supported HTTP methods for interacting with the plushies resource."
      ]
    },
    {
      "cell_type": "code",
      "execution_count": null,
      "metadata": {
        "colab": {
          "base_uri": "https://localhost:8080/"
        },
        "id": "9WbM1RwCttap",
        "outputId": "597f250f-5e72-4802-c9ac-87b25ac32a69"
      },
      "outputs": [],
      "source": [
        "# HTTP OPTIONS with path\n",
        "url = 'https://api.pekkakorpi-tassi.fi/httptest/testing'\n",
        "\n",
        "response = requests.options(url, headers=default_headers)\n",
        "\n",
        "# HOX: OPTIONS request only sends back header data\n",
        "pprint(dict(response.headers))"
      ]
    },
    {
      "cell_type": "code",
      "execution_count": null,
      "metadata": {
        "colab": {
          "base_uri": "https://localhost:8080/"
        },
        "id": "QXZjB43I0HUo",
        "outputId": "c4553cca-f5eb-4103-d9b0-9a4f096061eb"
      },
      "outputs": [],
      "source": [
        "# HOX: You can check content for OPTIONS request, but it shouldn't contain any data, but it does here...?\n",
        "pretty_json_print(response.json())"
      ]
    },
    {
      "cell_type": "markdown",
      "metadata": {
        "id": "fkyKBtOcttap"
      },
      "source": [
        "## HTTP Request HEAD\n",
        "\n",
        "**HTTP Request HEAD** is used to retrieve response headers (metadata, status codes, or other header information without needing to download the full content of the resource) identical to those of a GET request, but without the response body.\n",
        "\n",
        "[Detailed Information](https://developer.mozilla.org/en-US/docs/Web/HTTP/Methods/HEAD)\n",
        "\n",
        "**Online Shop Scenario:** Checking if a plushie is in stock. Request HEAD to /plushies/789. Purpose is to retrieve only the headers of the response to check if the plushie with ID 789 is in stock without downloading the full content."
      ]
    },
    {
      "cell_type": "code",
      "execution_count": null,
      "metadata": {
        "colab": {
          "base_uri": "https://localhost:8080/"
        },
        "id": "utDwAp1kttap",
        "outputId": "9343ad24-8650-409f-d5f7-99e24a7121d9"
      },
      "outputs": [],
      "source": [
        "# HTTP HEAD with path\n",
        "url = 'https://api.pekkakorpi-tassi.fi/httptest/testing'\n",
        "\n",
        "response = requests.head(url, headers=default_headers)\n",
        "\n",
        "# HOX: HEAD request only sends back header data\n",
        "pprint(dict(response.headers))"
      ]
    },
    {
      "cell_type": "code",
      "execution_count": null,
      "metadata": {
        "colab": {
          "base_uri": "https://localhost:8080/"
        },
        "id": "BC58UcEjznZ0",
        "outputId": "eab3a3ae-cc63-4083-8c41-bb2fd38e80cf"
      },
      "outputs": [],
      "source": [
        "# HOX: You can check content for HEAD request, but it won't contain any data\n",
        "response.content"
      ]
    },
    {
      "cell_type": "code",
      "execution_count": null,
      "metadata": {
        "colab": {
          "base_uri": "https://localhost:8080/"
        },
        "id": "pPB46aKKzOnR",
        "outputId": "543f7ba0-424b-4282-e508-8e8ab2361e2f"
      },
      "outputs": [],
      "source": [
        "# HOX: From response you can mostly get information, that operation succeeded\n",
        "response"
      ]
    },
    {
      "cell_type": "markdown",
      "metadata": {
        "id": "0rj-BvVWttaq"
      },
      "source": [
        "## HTTP Request GET\n",
        "\n",
        "**HTTP GET Request** retrieves information about specified resource from server by contacting API.\n",
        "\n",
        "[Detailed Information](https://developer.mozilla.org/en-US/docs/Web/HTTP/Methods/GET)\n",
        "\n",
        "**Online Shop Scenario:** When a customer is browsing the plushies on the online shop. Request GET to path /plushies. Purpose is to retrieve a list of available plushies. This request is used when the customer is viewing the main page or a specific category of plushies."
      ]
    },
    {
      "cell_type": "code",
      "execution_count": null,
      "metadata": {
        "colab": {
          "base_uri": "https://localhost:8080/"
        },
        "id": "Y2P-veu7z_y3",
        "outputId": "f5a1c916-13ab-4e78-e879-470495feeb2d"
      },
      "outputs": [],
      "source": [
        "# HTTP GET with path\n",
        "url = 'https://api.pekkakorpi-tassi.fi/httptest/testing'\n",
        "\n",
        "response = requests.get(url, headers=default_headers)\n",
        "\n",
        "pretty_json_print(response.json())"
      ]
    },
    {
      "cell_type": "code",
      "execution_count": null,
      "metadata": {
        "colab": {
          "base_uri": "https://localhost:8080/"
        },
        "id": "IfL-0a3Ax7vD",
        "outputId": "67ce9b93-9288-495b-8c5c-abc8b04304e0"
      },
      "outputs": [],
      "source": [
        "# HTTP GET with path and query parameters\n",
        "url = 'https://api.pekkakorpi-tassi.fi/httptest/testing'\n",
        "url_parameters = {'animal': 'cat', 'name': 'felix'}\n",
        "\n",
        "response = requests.get(url, headers=default_headers, params=url_parameters)\n",
        "\n",
        "pretty_json_print(response.json())"
      ]
    },
    {
      "cell_type": "code",
      "execution_count": null,
      "metadata": {
        "id": "91z_drNz0cNJ"
      },
      "outputs": [],
      "source": [
        "# HTTP GET with file resource and anchor\n",
        "url = 'https://api.pekkakorpi-tassi.fi/httptest/fakefile.html#dummy-anchor'\n",
        "\n",
        "response = requests.get(url, headers=default_headers)\n",
        "\n",
        "pretty_json_print(response.json())"
      ]
    },
    {
      "cell_type": "code",
      "execution_count": null,
      "metadata": {
        "colab": {
          "base_uri": "https://localhost:8080/"
        },
        "id": "vDHH04YY1Hvf",
        "outputId": "32c36b7a-e1f4-47b6-e986-7fdd6e749949"
      },
      "outputs": [],
      "source": [
        "# HTTP GET to web page\n",
        "url = 'https://pekkakorpi-tassi.fi'\n",
        "\n",
        "response = requests.get(url, headers=default_headers)\n",
        "\n",
        "print(f'{response.content[0:200]}...')"
      ]
    },
    {
      "cell_type": "code",
      "execution_count": null,
      "metadata": {
        "colab": {
          "base_uri": "https://localhost:8080/"
        },
        "id": "zFCpwk5Z2MTl",
        "outputId": "aaec666a-8282-435c-d450-880aa1b87c77"
      },
      "outputs": [],
      "source": [
        "# Check HTTP GET headers...\n",
        "pprint(dict(response.headers))"
      ]
    },
    {
      "cell_type": "code",
      "execution_count": null,
      "metadata": {
        "colab": {
          "base_uri": "https://localhost:8080/"
        },
        "id": "pLLJIboY8tLk",
        "outputId": "6f702bde-9c47-4afc-b05f-64571645dc6e"
      },
      "outputs": [],
      "source": [
        "# Check HTTP GET cookies...\n",
        "response.cookies"
      ]
    },
    {
      "cell_type": "markdown",
      "metadata": {
        "id": "aeHtuOdSttaq"
      },
      "source": [
        "## HTTP Request PUT\n",
        "\n",
        "**HTTP Request PUT** updates ( server then processes the request and replaces the existing resource) an existing resource.\n",
        "\n",
        "[Detailed Information](https://developer.mozilla.org/en-US/docs/Web/HTTP/Methods/PUT)\n",
        "\n",
        "**Online Shop Scenario:** When a customer updates the quantity of a plushie in their shopping cart. Request PUT to path /cart/update. Purpose is to update the quantity of a plushie in the customer's shopping cart. This request is sent when the customer changes the quantity of a plushie in their cart, and the new quantity is included in the request body."
      ]
    },
    {
      "cell_type": "code",
      "execution_count": null,
      "metadata": {
        "colab": {
          "base_uri": "https://localhost:8080/"
        },
        "id": "TRZGv_Wvttaq",
        "outputId": "041b0d43-1722-43e5-e938-0415ecaa4ea3"
      },
      "outputs": [],
      "source": [
        "# HTTP PUT with path and payload\n",
        "url = 'https://api.pekkakorpi-tassi.fi/httptest/testing'\n",
        "\n",
        "# HOX: While technically request parameters could be used with PUT requests you should use body for data payload\n",
        "# This kind of requests creates or updates resources, and the data being sent can be complex and not easily represented as key-value pairs in a URL\n",
        "response = requests.put(url, headers=default_headers, data=default_payload)\n",
        "\n",
        "pretty_json_print(response.json())"
      ]
    },
    {
      "cell_type": "markdown",
      "metadata": {
        "id": "mPHskK8lttaq"
      },
      "source": [
        "## HTTP Request POST\n",
        "\n",
        "**HTTP Request POST** instructs the server to create a new entry in a database or is used to submit data to be processed to a specified resource.\n",
        "\n",
        "[Detailed Information](https://developer.mozilla.org/en-US/docs/Web/HTTP/Methods/POST)\n",
        "\n",
        "**Online Shop Scenario:** When a customer adds a plushie to their shopping cart. Request POST to path /cart/add. Purpose is to add a plushie to the customer's shopping cart. This request is sent when the customer clicks the \"Add to Cart\" button. The plushie details are typically included in the request body."
      ]
    },
    {
      "cell_type": "code",
      "execution_count": null,
      "metadata": {
        "id": "6A4I-Cudttar"
      },
      "outputs": [],
      "source": [
        "# HTTP POST with path and payload\n",
        "url = 'https://api.pekkakorpi-tassi.fi/httptest/testing'\n",
        "\n",
        "# HOX: While technically request parameters could be used with POST requests you should use body for data payload\n",
        "# This kind of requests creates or updates resources, and the data being sent can be complex and not easily represented as key-value pairs in a URL\n",
        "response = requests.post(url, headers=default_headers, data=default_payload)\n",
        "\n",
        "pretty_json_print(response.json())"
      ]
    },
    {
      "cell_type": "markdown",
      "metadata": {
        "id": "HS_RRJPpttar"
      },
      "source": [
        "## HTTP Request DELETE\n",
        "\n",
        "**HTTP Request DELETE** is used to delete a resource or related component (indicates the desire to delete the specified resource).\n",
        "\n",
        "[Detailed Information](https://developer.mozilla.org/en-US/docs/Web/HTTP/Methods/DELETE)\n",
        "\n",
        "**Online Shop Scenario:** When a customer removes a plushie from their shopping cart. Request DELETE to /cart/remove. Purpose is to remove a plushie from the customer's shopping cart. This request is sent when the customer decides to remove a plushie from their cart. The plushie ID or other relevant details are typically included in the request body."
      ]
    },
    {
      "cell_type": "code",
      "execution_count": null,
      "metadata": {
        "colab": {
          "base_uri": "https://localhost:8080/"
        },
        "id": "n6klpqClttar",
        "outputId": "611eafb2-5a04-4739-e499-fd4c09debf32"
      },
      "outputs": [],
      "source": [
        "# HTTP DELETE with path\n",
        "url = 'https://api.pekkakorpi-tassi.fi/httptest/testing'\n",
        "\n",
        "# HOX: While technically request parameters could be used with DELETE requests you normally include the resource ID in the URL path instead\n",
        "response = requests.delete(url, headers=default_headers)\n",
        "\n",
        "pretty_json_print(response.json())"
      ]
    },
    {
      "cell_type": "markdown",
      "metadata": {
        "id": "4v2TbvnN3ftC"
      },
      "source": [
        "## Disclaimer\n",
        "\n",
        "All the information in this notebook is published in good faith and for general information purpose only. I do not make any warranties about the completeness, reliability and accuracy of this information. Any action you take upon the information you find in this notebook, is strictly at your own risk. I will not be liable for any losses and/or damages in connection with the use of materials in this notebook.\n",
        "\n",
        "## License\n",
        "\n",
        "The materials of this workshop - specifically the associated entry on pekkakorpi-tassi.fi website and materials made available through GitHub repository github.com/p3kk4/http_request_workshop (excluding the source code of associated API and API documentation) - are made available under the terms of the Creative Commons Attribution Non Commercial No Derivatives 4.0 International License.\n",
        "\n",
        "- [https://creativecommons.org/licenses/by-nc-nd/4.0/deed.en](https://creativecommons.org/licenses/by-nc-nd/4.0/deed.en)"
      ]
    }
  ],
  "metadata": {
    "colab": {
      "provenance": [],
      "toc_visible": true
    },
    "kernelspec": {
      "display_name": "Python (Pyodide)",
      "language": "python",
      "name": "python"
    },
    "language_info": {
      "codemirror_mode": {
        "name": "python",
        "version": 3
      },
      "file_extension": ".py",
      "mimetype": "text/x-python",
      "name": "python",
      "nbconvert_exporter": "python",
      "pygments_lexer": "ipython3",
      "version": "3.8"
    }
  },
  "nbformat": 4,
  "nbformat_minor": 0
}
