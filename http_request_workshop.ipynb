{
  "cells": [
    {
      "cell_type": "markdown",
      "metadata": {
        "id": "kIUkr5Fattal"
      },
      "source": [
        "# HTTP Request Worksop\n",
        "\n",
        "<div class=\"row\">\n",
        "  <div class=\"column\">\n",
        "    <img src=\"https://pekkakorpi-tassi.fi/img/logo_v1.8.png\"  width=400>\n",
        "  </div>\n",
        "</div>\n",
        "\n",
        "Welcome to the **HTTP Request Workshop** by [pekkakorpi-tassi.fi](https://pekkakorpi-tassi.fi)!\n",
        "\n",
        "## Overview\n",
        "\n",
        "The [http-request-workshop](https://github.com/p3kk4/http-request-workshop) repository is available on GitHub and serves as a material package that includes all the necessary resources required to learn about HTTP Requests via practical examples.\n",
        "\n",
        "The Python Notebook (.ipynb) file can be opened in [Google Colab](https://colab.research.google.com) can be used for self-paced learning, although it is primarily meant to be complemented by instructor-led workshops. During the workshops learners can engage in hands-on learning activities and building their own documentation while exploring HTTP Requests.\n",
        "\n",
        "## Structure of the Internet\n",
        "\n",
        "https://global-internet-map-2021.telegeography.com/  \n",
        "https://global-internet-map-2022.telegeography.com/\n",
        "\n",
        "## HTTP Protocol\n",
        "\n",
        "HTTP acronym stands for Hyper-Text Transfer Protocol and it is the most important **top level** data exchange protocol of the Internet. HTTP works on Application Layer (Layer 7) of Open Systems Interconnect (OSI) reference model. Important additional protocols related to HTTP protocol are Transport Layer Security (TLS) protocol and Domain Name System (DNS) protocol. Technically HTTP protocol works on TCP/IP Protocol stack (IP Protocol, TCP Protocol) that are part of the lower OSI reference model Layers. HTTP Protocol most often works through Uniform Resource Locators (URL), which everybody uses. As you type https://google.com to the address bar of the browser you are typing URL.\n",
        "\n",
        "Here is a collection of some relevant terms that you should be aware about related to the HTTP Protocol:\n",
        "\n",
        "- Scheme (http:// or https://) indicates if connection is to be encrypted.\n",
        "- URL indicates human friendly name for a server application to be contacted.\n",
        "- DNS name resolution is used to discover Public IP Address of the server.\n",
        "- HTTP Protocol is the message system client uses to exchange data with the server.\n",
        "- Public IP Address indicates the network that the server is part of.\n",
        "- TCP Port (default 80 for http and default 443 for https) indicates application on the server.\n",
        "- TCP/IP Protocol is what exchanges data between different networks.\n",
        "- MAC/Ethernet Protocol is what exchanges data within the same network.\n",
        "\n",
        "In this workshop we want to explore HTTP Protocol specifically. Most people are actively (sometimes unknowingly) using a single HTTP method...:\n",
        "\n",
        "- GET\n",
        "\n",
        "...but at the same time they are also (frequently unknowingly) using 8 other HTTP methods:\n",
        "\n",
        "- HEAD\n",
        "- OPTIONS\n",
        "- PUT\n",
        "- POST\n",
        "- DELETE\n",
        "- PATCH\n",
        "- CONNECT\n",
        "- TRACE\n",
        "\n",
        "Learning objective of this workshop is to make learners more aware about the HTTP protocol and how it works. This is an important ICT skill that helps people to understand the Internet and web services. Understanding many Pubic Cloud topics is superficial if lerner has inadequate grasp on the OSI reference model and role of HTTP Protocol in it and relevance of HTTP Protocol to their lives.\n",
        "\n",
        "## Understanding URL\n",
        "\n",
        "A good starting point to understand HTTP Protocol is to understand URL. It is URL that people and systems frequently use as they communicate between other systems over the Internet. There is supportive diagram made available through [pekkakorpi-tassi.fi](https://pekkakorpi-tassi.fi/materials/understanding_url.html) website, but there is a wealth of material available on the Internet or through generative AIs to learn specifics about URL. Understanding how URL is structured helps you to associate each structural part to OSI Reference Model and how data transfer over the Internet happens.\n",
        "\n",
        "\n",
        "\n"
      ]
    },
    {
      "cell_type": "markdown",
      "metadata": {},
      "source": [
        "## Prepare Notebook for Workshop\n",
        "\n",
        "Python Notebook technology is really interesting. You can include Text Cells and Code Cells within the Python Notebook in an interesting way that allows for building interatice notebooks that contain and allow execution of Python code mixed in with text blocks. Python Notebook is a notebook and code runtime at the same time!\n",
        "\n",
        "You can execute Python code within Code Cells by executing code from **Play** type button on top left corner of each Code Cell. Code is executed and results are displayed in an Output Cell below the Code Cell. All outcomes from executing Code Cells on previous Code Cells affect the context of following Code Cells. This means, that if you do execute code and store results in variables in one Code Cell, you can use these results in following Code Cells. This makes for an interesting and interactive learning environment!\n",
        "\n",
        "In this first Code Cell of this notebook we add necessary Python libraries to our code execution environment so that we can leverage functionalities of those libraries to perform HTTP Protocol testing against api.pekkakorpi-tassi.fi.\n",
        "\n",
        "**Execute first Code Cell now!**"
      ]
    },
    {
      "cell_type": "code",
      "execution_count": null,
      "metadata": {},
      "outputs": [],
      "source": [
        "# Import Python Libraries\n",
        "import requests\n",
        "import json\n",
        "from pprint import pprint\n",
        "import socket\n",
        "\n",
        "# Setup Common Variables\n",
        "default_headers = {\n",
        "    'user-agent': 'http-request-workshop/colab',\n",
        "    'sec-ch-ua': 'fake browser',\n",
        "    'sec-ch-ua-platform': 'fake os'\n",
        "}\n",
        "default_payload = {'animal': 'platypus', 'name': 'flappy'}\n",
        "\n",
        "# Helper Function to print indented JSON\n",
        "def pretty_json_print(data):\n",
        "  pretty_json = json.dumps(data, indent=3)\n",
        "  print(pretty_json)"
      ]
    },
    {
      "cell_type": "markdown",
      "metadata": {
        "id": "1G9RDqfTHQVD"
      },
      "source": [
        "# Ping\n",
        "  \n",
        "Latency  \n",
        "Package Loss  \n",
        "\n",
        "https://pypi.org/project/icmplib/"
      ]
    },
    {
      "cell_type": "code",
      "execution_count": null,
      "metadata": {
        "colab": {
          "base_uri": "https://localhost:8080/"
        },
        "id": "qu_Kl8PMHRD-",
        "outputId": "170782c1-39a7-4fdf-8143-080a759b1d05"
      },
      "outputs": [
        {
          "data": {
            "text/plain": [
              "[]"
            ]
          },
          "execution_count": 12,
          "metadata": {},
          "output_type": "execute_result"
        }
      ],
      "source": [
        "# Test latency 2 times with 20ms interval between each test\n",
        "# HOX: Note that some services have blocked Ping!\n",
        "host = ping(ip_address, count=2, interval=0.2)\n",
        "host.rtts"
      ]
    },
    {
      "cell_type": "code",
      "execution_count": null,
      "metadata": {
        "colab": {
          "base_uri": "https://localhost:8080/"
        },
        "id": "3vtIM8lFJmAz",
        "outputId": "7f8e236d-fe00-4f9f-d96d-34fcffc33ef2"
      },
      "outputs": [
        {
          "data": {
            "text/plain": [
              "1.0"
            ]
          },
          "execution_count": 13,
          "metadata": {},
          "output_type": "execute_result"
        }
      ],
      "source": [
        "# What percentage (1.0 is 100%, 0.0 is 0%) of packages was lost?\n",
        "host.packet_loss"
      ]
    },
    {
      "cell_type": "code",
      "execution_count": null,
      "metadata": {
        "colab": {
          "base_uri": "https://localhost:8080/"
        },
        "id": "ql1_QUZGI08Y",
        "outputId": "a5cad769-3414-4b00-840d-e9256ff1654b"
      },
      "outputs": [
        {
          "data": {
            "text/plain": [
              "[0.6375312805175781, 0.41937828063964844, 0.3848075866699219]"
            ]
          },
          "execution_count": 15,
          "metadata": {},
          "output_type": "execute_result"
        }
      ],
      "source": [
        "# Test latency 3 times with 20ms interval between ping\n",
        "# HOX: Using Google's Public DNS Service to test ping\n",
        "google_dns_ip_address = '8.8.8.8'\n",
        "host = ping(google_dns_ip_address, count=3, interval=0.2)\n",
        "host.rtts"
      ]
    },
    {
      "cell_type": "code",
      "execution_count": null,
      "metadata": {
        "colab": {
          "base_uri": "https://localhost:8080/"
        },
        "id": "i8BfOPOsJ5wi",
        "outputId": "18d1f1aa-1700-4ef4-d851-805af0387fbd"
      },
      "outputs": [
        {
          "data": {
            "text/plain": [
              "0.0"
            ]
          },
          "execution_count": 16,
          "metadata": {},
          "output_type": "execute_result"
        }
      ],
      "source": [
        "# What percentage (1.0 is 100%, 0.0 is 0%) of packages was lost?\n",
        "host.packet_loss"
      ]
    },
    {
      "cell_type": "markdown",
      "metadata": {
        "id": "8vYYIOZZKHK3"
      },
      "source": [
        "# Traceroute\n",
        "\n",
        "Text\n",
        "\n",
        "Routing\n",
        "\n",
        "This function uses the IP protocol time to live field and attempts to elicit an ICMP Time Exceeded response from each gateway along the path to some host.\n",
        "\n",
        "traceroute command is used to display the path that a packet takes to reach a destination. It lists all the routers it passes through until it reaches its destination, or fails to and is discarded. Each router represents a hop in the path.\n",
        "\n",
        "In the traceroute output, the term \"gateway\" is used to denote the device that is routing the traffic. This could be a router, a modem, or any other device that performs this function."
      ]
    },
    {
      "cell_type": "code",
      "execution_count": null,
      "metadata": {
        "colab": {
          "base_uri": "https://localhost:8080/"
        },
        "id": "heE_r9mzWRyS",
        "outputId": "1835eb9c-0283-4cdf-eef3-90514b942328"
      },
      "outputs": [
        {
          "name": "stdout",
          "output_type": "stream",
          "text": [
            "{\n",
            "   \"ip\": \"34.139.49.142\",\n",
            "   \"hostname\": \"142.49.139.34.bc.googleusercontent.com\",\n",
            "   \"city\": \"North Charleston\",\n",
            "   \"region\": \"South Carolina\",\n",
            "   \"country\": \"US\",\n",
            "   \"loc\": \"32.8546,-79.9748\",\n",
            "   \"org\": \"AS396982 Google LLC\",\n",
            "   \"postal\": \"29415\",\n",
            "   \"timezone\": \"America/New_York\",\n",
            "   \"readme\": \"https://ipinfo.io/missingauth\"\n",
            "}\n"
          ]
        }
      ],
      "source": [
        "# Let's check what is IP address where requests are originating from (Google Colab Service)...\n",
        "colab_ip = get_my_ip()\n",
        "colab_ipinfo = requests.get(f'https://ipinfo.io/{colab_ip}').json()\n",
        "pretty_json_print(colab_ipinfo)"
      ]
    },
    {
      "cell_type": "code",
      "execution_count": null,
      "metadata": {
        "colab": {
          "base_uri": "https://localhost:8080/"
        },
        "id": "Tisb7xnSXYys",
        "outputId": "eab643af-27fb-40e4-9cb9-1ca330999a12"
      },
      "outputs": [
        {
          "name": "stdout",
          "output_type": "stream",
          "text": [
            "{\n",
            "   \"ip\": \"37.33.232.10\",\n",
            "   \"hostname\": \"37-33-232-10.bb.dnainternet.fi\",\n",
            "   \"city\": \"Helsinki\",\n",
            "   \"region\": \"Uusimaa\",\n",
            "   \"country\": \"FI\",\n",
            "   \"loc\": \"60.1695,24.9354\",\n",
            "   \"org\": \"AS16086 DNA Oyj\",\n",
            "   \"postal\": \"00100\",\n",
            "   \"timezone\": \"Europe/Helsinki\",\n",
            "   \"readme\": \"https://ipinfo.io/missingauth\"\n",
            "}\n"
          ]
        }
      ],
      "source": [
        "# You can also check information about your computer's IP address and IP information...\n",
        "# https://whatismyipaddress.com/\n",
        "your_ip = '?.?.?.?'\n",
        "your_ipinfo = requests.get(f'https://ipinfo.io/{your_ip}').json()\n",
        "pretty_json_print(your_ipinfo)\n"
      ]
    },
    {
      "cell_type": "code",
      "execution_count": null,
      "metadata": {
        "colab": {
          "base_uri": "https://localhost:8080/"
        },
        "id": "0oDDRQvvKPGo",
        "outputId": "d96ef6d2-9abc-46a4-ed26-b3de8c9cb024"
      },
      "outputs": [
        {
          "name": "stdout",
          "output_type": "stream",
          "text": [
            "Distance/TTL    Organization    City    Address    Average round-trip time\n",
            "1   unknown    unknown   172.28.0.1    0.09 ms\n",
            "2   AS15169 Google LLC    London   192.178.97.106    88.219 ms\n",
            "3   unknown    London   195.66.227.149    87.941 ms\n",
            "4   AS202053 UpCloud Ltd    Frankfurt am Main   94.237.0.48    101.197 ms\n",
            "5   AS202053 UpCloud Ltd    Helsinki   94.237.0.42    119.191 ms\n",
            "Some gateways are not responding\n",
            "9   AS202053 UpCloud Ltd    Helsinki   94.237.113.214    119.378 ms\n"
          ]
        }
      ],
      "source": [
        "fqdn_tracert = 'perth.wa.gov.au'\n",
        "#fqdn_tracert = 'www.haaga-helia.fi'\n",
        "#fqdn_tracert = 'twitter.com'\n",
        "#fqdn_tracert = 'icann.org'\n",
        "\n",
        "ip_address_tracert = socket.gethostbyname(fqdn_tracert)\n",
        "\n",
        "hops = traceroute(ip_address_tracert)\n",
        "\n",
        "print('Distance/TTL    Organization    City    Address    Average round-trip time')\n",
        "last_distance = 0\n",
        "\n",
        "for hop in hops:\n",
        "  if last_distance + 1 != hop.distance:\n",
        "    print('Some gateways are not responding')\n",
        "    # See the Hop class for details\n",
        "  hop_ipinfo = requests.get(f'https://ipinfo.io/{hop.address}').json()\n",
        "  hop_city = 'unknown'\n",
        "  hop_org = 'unknown'\n",
        "  if \"org\" in hop_ipinfo:\n",
        "    hop_org = hop_ipinfo[\"org\"]\n",
        "  if \"city\" in hop_ipinfo:\n",
        "    hop_city = hop_ipinfo[\"city\"]\n",
        "  print(f'{hop.distance}   {hop_org}    {hop_city}   {hop.address}    {hop.avg_rtt} ms')\n",
        "  last_distance = hop.distance"
      ]
    },
    {
      "cell_type": "markdown",
      "metadata": {
        "id": "cw1gJIm7ttap"
      },
      "source": [
        "## HTTP Request OPTIONS\n",
        "\n",
        "Text"
      ]
    },
    {
      "cell_type": "code",
      "execution_count": null,
      "metadata": {
        "colab": {
          "base_uri": "https://localhost:8080/"
        },
        "id": "9WbM1RwCttap",
        "outputId": "597f250f-5e72-4802-c9ac-87b25ac32a69"
      },
      "outputs": [
        {
          "name": "stdout",
          "output_type": "stream",
          "text": [
            "{'Access-Control-Allow-Headers': 'Content-Type',\n",
            " 'Access-Control-Allow-Methods': 'HEAD,GET,POST,PUT,DELETE,OPTIONS',\n",
            " 'Access-Control-Allow-Origin': 'https://pekkakorpi-tassi.fi',\n",
            " 'Connection': 'keep-alive',\n",
            " 'Content-Length': '1053',\n",
            " 'Content-Type': 'application/json',\n",
            " 'Date': 'Sat, 20 Jan 2024 04:24:32 GMT',\n",
            " 'X-Amzn-Trace-Id': 'Root=1-65ab4aff-69687a0e08f2231d35be670b;Sampled=0;lineage=86d40731:0',\n",
            " 'x-amz-apigw-id': 'R0ioAEnioAMEdww=',\n",
            " 'x-amzn-RequestId': '43f2ec6a-795b-4339-994b-6faea9fda29d'}\n"
          ]
        }
      ],
      "source": [
        "# HTTP OPTIONS with path\n",
        "url = 'https://api.pekkakorpi-tassi.fi/httptest/testing'\n",
        "\n",
        "response = requests.options(url, headers=default_headers)\n",
        "\n",
        "# HOX: OPTIONS request only sends back header data\n",
        "pprint(dict(response.headers))"
      ]
    },
    {
      "cell_type": "code",
      "execution_count": null,
      "metadata": {
        "colab": {
          "base_uri": "https://localhost:8080/"
        },
        "id": "QXZjB43I0HUo",
        "outputId": "c4553cca-f5eb-4103-d9b0-9a4f096061eb"
      },
      "outputs": [
        {
          "name": "stdout",
          "output_type": "stream",
          "text": [
            "{\n",
            "   \"statusCode\": 200,\n",
            "   \"timestamp\": 1705724672,\n",
            "   \"message\": \"handled OPTIONS request\",\n",
            "   \"breakdown\": {\n",
            "      \"clientip\": \"xxx.106.76.xxx\",\n",
            "      \"clientiptype\": \"IPv4\",\n",
            "      \"useragent\": \"http-request-workshop/colab\",\n",
            "      \"browser\": \"fake browser\",\n",
            "      \"clientsystem\": \"fake os\",\n",
            "      \"method\": \"OPTIONS\",\n",
            "      \"scheme\": \"https\",\n",
            "      \"protocolVersion\": \"HTTP/1.1\",\n",
            "      \"uri\": \"https://api.pekkakorpi-tassi.fi:443/httptest/testing\",\n",
            "      \"url\": \"https://api.pekkakorpi-tassi.fi:443/httptest/testing\",\n",
            "      \"fqdn\": \"api.pekkakorpi-tassi.fi\",\n",
            "      \"subdomain\": \"api\",\n",
            "      \"secondleveldomain\": \"pekkakorpi-tassi\",\n",
            "      \"topleveldomain\": \"fi\",\n",
            "      \"tcpport\": \"443\",\n",
            "      \"path\": \"/httptest/testing\",\n",
            "      \"resource\": \"\",\n",
            "      \"queryparameters\": \"\",\n",
            "      \"requestbody\": \"\",\n",
            "      \"features\": {\n",
            "         \"description\": \"OPTIONS HTTP Request ...\",\n",
            "         \"queryparameters\": \"no\",\n",
            "         \"anchor\": \"browser side concept, not used by server\",\n",
            "         \"requestbody\": \"no\",\n",
            "         \"responsebody\": \"no\",\n",
            "         \"safe\": \"yes\",\n",
            "         \"idempotent\": \"yes\",\n",
            "         \"cacheable\": \"no\"\n",
            "      }\n",
            "   }\n",
            "}\n"
          ]
        }
      ],
      "source": [
        "# HOX: You can check content for OPTIONS request, but it shouldn't contain any data, but it does here...?\n",
        "pretty_json_print(response.json())"
      ]
    },
    {
      "cell_type": "markdown",
      "metadata": {
        "id": "fkyKBtOcttap"
      },
      "source": [
        "## HTTP Request HEAD\n",
        "\n",
        "Text"
      ]
    },
    {
      "cell_type": "code",
      "execution_count": null,
      "metadata": {
        "colab": {
          "base_uri": "https://localhost:8080/"
        },
        "id": "utDwAp1kttap",
        "outputId": "9343ad24-8650-409f-d5f7-99e24a7121d9"
      },
      "outputs": [
        {
          "name": "stdout",
          "output_type": "stream",
          "text": [
            "{'Access-Control-Allow-Headers': 'Content-Type',\n",
            " 'Access-Control-Allow-Methods': 'HEAD,GET,POST,PUT,DELETE,OPTIONS',\n",
            " 'Access-Control-Allow-Origin': 'https://pekkakorpi-tassi.fi',\n",
            " 'Connection': 'keep-alive',\n",
            " 'Content-Length': '1045',\n",
            " 'Content-Type': 'application/json',\n",
            " 'Date': 'Sat, 20 Jan 2024 04:25:30 GMT',\n",
            " 'X-Amzn-Trace-Id': 'Root=1-65ab4b3a-14ab67f300db14e93466d37f;Sampled=0;lineage=86d40731:0',\n",
            " 'x-amz-apigw-id': 'R0ixLGpZoAMEXlg=',\n",
            " 'x-amzn-Remapped-Content-Length': '1045',\n",
            " 'x-amzn-RequestId': '55875898-087b-448b-91c7-584fe5038fb4'}\n"
          ]
        }
      ],
      "source": [
        "# HTTP HEAD with path\n",
        "url = 'https://api.pekkakorpi-tassi.fi/httptest/testing'\n",
        "\n",
        "response = requests.head(url, headers=default_headers)\n",
        "\n",
        "# HOX: HEAD request only sends back header data\n",
        "pprint(dict(response.headers))"
      ]
    },
    {
      "cell_type": "code",
      "execution_count": null,
      "metadata": {
        "colab": {
          "base_uri": "https://localhost:8080/"
        },
        "id": "BC58UcEjznZ0",
        "outputId": "eab3a3ae-cc63-4083-8c41-bb2fd38e80cf"
      },
      "outputs": [
        {
          "data": {
            "text/plain": [
              "b''"
            ]
          },
          "execution_count": 6,
          "metadata": {},
          "output_type": "execute_result"
        }
      ],
      "source": [
        "# HOX: You can check content for HEAD request, but it won't contain any data\n",
        "response.content"
      ]
    },
    {
      "cell_type": "code",
      "execution_count": null,
      "metadata": {
        "colab": {
          "base_uri": "https://localhost:8080/"
        },
        "id": "pPB46aKKzOnR",
        "outputId": "543f7ba0-424b-4282-e508-8e8ab2361e2f"
      },
      "outputs": [
        {
          "data": {
            "text/plain": [
              "<Response [200]>"
            ]
          },
          "execution_count": 7,
          "metadata": {},
          "output_type": "execute_result"
        }
      ],
      "source": [
        "# HOX: From response you can mostly get information, that operation succeeded\n",
        "response"
      ]
    },
    {
      "cell_type": "markdown",
      "metadata": {
        "id": "0rj-BvVWttaq"
      },
      "source": [
        "## HTTP Request GET\n",
        "\n",
        "Text"
      ]
    },
    {
      "cell_type": "code",
      "execution_count": null,
      "metadata": {
        "colab": {
          "base_uri": "https://localhost:8080/"
        },
        "id": "Y2P-veu7z_y3",
        "outputId": "f5a1c916-13ab-4e78-e879-470495feeb2d"
      },
      "outputs": [
        {
          "name": "stdout",
          "output_type": "stream",
          "text": [
            "{\n",
            "   \"statusCode\": 200,\n",
            "   \"timestamp\": 1705724743,\n",
            "   \"message\": \"handled GET request\",\n",
            "   \"breakdown\": {\n",
            "      \"clientip\": \"xxx.106.76.xxx\",\n",
            "      \"clientiptype\": \"IPv4\",\n",
            "      \"useragent\": \"http-request-workshop/colab\",\n",
            "      \"browser\": \"fake browser\",\n",
            "      \"clientsystem\": \"fake os\",\n",
            "      \"method\": \"GET\",\n",
            "      \"scheme\": \"https\",\n",
            "      \"protocolVersion\": \"HTTP/1.1\",\n",
            "      \"uri\": \"https://api.pekkakorpi-tassi.fi:443/httptest/testing\",\n",
            "      \"url\": \"https://api.pekkakorpi-tassi.fi:443/httptest/testing\",\n",
            "      \"fqdn\": \"api.pekkakorpi-tassi.fi\",\n",
            "      \"subdomain\": \"api\",\n",
            "      \"secondleveldomain\": \"pekkakorpi-tassi\",\n",
            "      \"topleveldomain\": \"fi\",\n",
            "      \"tcpport\": \"443\",\n",
            "      \"path\": \"/httptest/testing\",\n",
            "      \"resource\": \"\",\n",
            "      \"queryparameters\": \"\",\n",
            "      \"requestbody\": \"\",\n",
            "      \"features\": {\n",
            "         \"description\": \"GET HTTP Request is used to retrieve data from a server\",\n",
            "         \"queryparameters\": \"yes\",\n",
            "         \"anchor\": \"browser side concept, not used by server\",\n",
            "         \"requestbody\": \"no, no payload\",\n",
            "         \"responsebody\": \"yes, has payload\",\n",
            "         \"safe\": \"yes, read-only\",\n",
            "         \"idempotent\": \"yes, only the state of the server is considered\",\n",
            "         \"cacheable\": \"yes\"\n",
            "      }\n",
            "   }\n",
            "}\n"
          ]
        }
      ],
      "source": [
        "# HTTP GET with path\n",
        "url = 'https://api.pekkakorpi-tassi.fi/httptest/testing'\n",
        "\n",
        "response = requests.get(url, headers=default_headers)\n",
        "\n",
        "pretty_json_print(response.json())"
      ]
    },
    {
      "cell_type": "code",
      "execution_count": null,
      "metadata": {
        "colab": {
          "base_uri": "https://localhost:8080/"
        },
        "id": "IfL-0a3Ax7vD",
        "outputId": "67ce9b93-9288-495b-8c5c-abc8b04304e0"
      },
      "outputs": [
        {
          "name": "stdout",
          "output_type": "stream",
          "text": [
            "{\n",
            "   \"statusCode\": 200,\n",
            "   \"timestamp\": 1705724763,\n",
            "   \"message\": \"handled GET request\",\n",
            "   \"breakdown\": {\n",
            "      \"clientip\": \"xxx.106.76.xxx\",\n",
            "      \"clientiptype\": \"IPv4\",\n",
            "      \"useragent\": \"http-request-workshop/colab\",\n",
            "      \"browser\": \"fake browser\",\n",
            "      \"clientsystem\": \"fake os\",\n",
            "      \"method\": \"GET\",\n",
            "      \"scheme\": \"https\",\n",
            "      \"protocolVersion\": \"HTTP/1.1\",\n",
            "      \"uri\": \"https://api.pekkakorpi-tassi.fi:443/httptest/testing?animal=cat&name=felix\",\n",
            "      \"url\": \"https://api.pekkakorpi-tassi.fi:443/httptest/testing?animal=cat&name=felix\",\n",
            "      \"fqdn\": \"api.pekkakorpi-tassi.fi\",\n",
            "      \"subdomain\": \"api\",\n",
            "      \"secondleveldomain\": \"pekkakorpi-tassi\",\n",
            "      \"topleveldomain\": \"fi\",\n",
            "      \"tcpport\": \"443\",\n",
            "      \"path\": \"/httptest/testing\",\n",
            "      \"resource\": \"\",\n",
            "      \"queryparameters\": \"animal=cat&name=felix\",\n",
            "      \"requestbody\": \"\",\n",
            "      \"features\": {\n",
            "         \"description\": \"GET HTTP Request is used to retrieve data from a server\",\n",
            "         \"queryparameters\": \"yes\",\n",
            "         \"anchor\": \"browser side concept, not used by server\",\n",
            "         \"requestbody\": \"no, no payload\",\n",
            "         \"responsebody\": \"yes, has payload\",\n",
            "         \"safe\": \"yes, read-only\",\n",
            "         \"idempotent\": \"yes, only the state of the server is considered\",\n",
            "         \"cacheable\": \"yes\"\n",
            "      }\n",
            "   }\n",
            "}\n"
          ]
        }
      ],
      "source": [
        "# HTTP GET with path and query parameters\n",
        "url = 'https://api.pekkakorpi-tassi.fi/httptest/testing'\n",
        "url_parameters = {'animal': 'cat', 'name': 'felix'}\n",
        "\n",
        "response = requests.get(url, headers=default_headers, params=url_parameters)\n",
        "\n",
        "pretty_json_print(response.json())"
      ]
    },
    {
      "cell_type": "code",
      "execution_count": null,
      "metadata": {
        "id": "91z_drNz0cNJ"
      },
      "outputs": [],
      "source": [
        "# HTTP GET with file resource and anchor\n",
        "url = 'https://api.pekkakorpi-tassi.fi/httptest/fakefile.html#dummy-anchor'\n",
        "\n",
        "response = requests.get(url, headers=default_headers)\n",
        "\n",
        "pretty_json_print(response.json())"
      ]
    },
    {
      "cell_type": "code",
      "execution_count": null,
      "metadata": {
        "colab": {
          "base_uri": "https://localhost:8080/"
        },
        "id": "vDHH04YY1Hvf",
        "outputId": "32c36b7a-e1f4-47b6-e986-7fdd6e749949"
      },
      "outputs": [
        {
          "name": "stdout",
          "output_type": "stream",
          "text": [
            "b'<!DOCTYPE html> <html lang=\"en-US\"> <head> <meta charset=\"UTF-8\"> <meta http-equiv=\"X-UA-Compatible\" content=\"IE=Edge\"> <link rel=\"stylesheet\" href=\"/assets/css/just-the-docs-default.css\"> <style type'...\n"
          ]
        }
      ],
      "source": [
        "# HTTP GET to web page\n",
        "url = 'https://pekkakorpi-tassi.fi'\n",
        "\n",
        "response = requests.get(url, headers=default_headers)\n",
        "\n",
        "print(f'{response.content[0:200]}...')"
      ]
    },
    {
      "cell_type": "code",
      "execution_count": null,
      "metadata": {
        "colab": {
          "base_uri": "https://localhost:8080/"
        },
        "id": "zFCpwk5Z2MTl",
        "outputId": "aaec666a-8282-435c-d450-880aa1b87c77"
      },
      "outputs": [
        {
          "name": "stdout",
          "output_type": "stream",
          "text": [
            "{'Connection': 'keep-alive',\n",
            " 'Content-Encoding': 'gzip',\n",
            " 'Content-Type': 'text/html',\n",
            " 'Date': 'Sat, 20 Jan 2024 04:27:10 GMT',\n",
            " 'ETag': 'W/\"7faa1654a80cb6f7bd77bf6a951c5e71\"',\n",
            " 'Last-Modified': 'Fri, 19 Jan 2024 05:02:06 GMT',\n",
            " 'Server': 'AmazonS3',\n",
            " 'Transfer-Encoding': 'chunked',\n",
            " 'Vary': 'Accept-Encoding',\n",
            " 'Via': '1.1 e1b5abb53c407f0a057625c46693461c.cloudfront.net (CloudFront)',\n",
            " 'X-Amz-Cf-Id': '4s2v9_0YqMzbd504rGxsGtrEwE-iyOrS5RD-rfct-XeCYmAjDd5xaA==',\n",
            " 'X-Amz-Cf-Pop': 'DEN50-C2',\n",
            " 'X-Cache': 'Miss from cloudfront',\n",
            " 'x-amz-storage-class': 'REDUCED_REDUNDANCY'}\n"
          ]
        }
      ],
      "source": [
        "# Check HTTP GET headers...\n",
        "pprint(dict(response.headers))"
      ]
    },
    {
      "cell_type": "code",
      "execution_count": null,
      "metadata": {
        "colab": {
          "base_uri": "https://localhost:8080/"
        },
        "id": "pLLJIboY8tLk",
        "outputId": "6f702bde-9c47-4afc-b05f-64571645dc6e"
      },
      "outputs": [
        {
          "data": {
            "text/plain": [
              "<RequestsCookieJar[]>"
            ]
          },
          "execution_count": 12,
          "metadata": {},
          "output_type": "execute_result"
        }
      ],
      "source": [
        "# Check HTTP GET cookies...\n",
        "response.cookies"
      ]
    },
    {
      "cell_type": "markdown",
      "metadata": {
        "id": "aeHtuOdSttaq"
      },
      "source": [
        "## HTTP Request PUT\n",
        "\n",
        "Text"
      ]
    },
    {
      "cell_type": "code",
      "execution_count": null,
      "metadata": {
        "colab": {
          "base_uri": "https://localhost:8080/"
        },
        "id": "TRZGv_Wvttaq",
        "outputId": "041b0d43-1722-43e5-e938-0415ecaa4ea3"
      },
      "outputs": [
        {
          "name": "stdout",
          "output_type": "stream",
          "text": [
            "{\n",
            "   \"statusCode\": 200,\n",
            "   \"timestamp\": 1705724879,\n",
            "   \"message\": \"handled PUT request\",\n",
            "   \"breakdown\": {\n",
            "      \"clientip\": \"xxx.106.76.xxx\",\n",
            "      \"clientiptype\": \"IPv4\",\n",
            "      \"useragent\": \"http-request-workshop/colab\",\n",
            "      \"browser\": \"fake browser\",\n",
            "      \"clientsystem\": \"fake os\",\n",
            "      \"method\": \"PUT\",\n",
            "      \"scheme\": \"https\",\n",
            "      \"protocolVersion\": \"HTTP/1.1\",\n",
            "      \"uri\": \"https://api.pekkakorpi-tassi.fi:443/httptest/testing\",\n",
            "      \"url\": \"https://api.pekkakorpi-tassi.fi:443/httptest/testing\",\n",
            "      \"fqdn\": \"api.pekkakorpi-tassi.fi\",\n",
            "      \"subdomain\": \"api\",\n",
            "      \"secondleveldomain\": \"pekkakorpi-tassi\",\n",
            "      \"topleveldomain\": \"fi\",\n",
            "      \"tcpport\": \"443\",\n",
            "      \"path\": \"/httptest/testing\",\n",
            "      \"resource\": \"\",\n",
            "      \"queryparameters\": \"\",\n",
            "      \"requestbody\": \"animal=platypus&name=flappy\",\n",
            "      \"features\": {\n",
            "         \"description\": \"PUT HTTP Request sends information to the server to either create or update a resource\",\n",
            "         \"queryparameters\": \"no, should use body payload\",\n",
            "         \"anchor\": \"browser side concept, not used by server\",\n",
            "         \"requestbody\": \"yes, typically has payload\",\n",
            "         \"responsebody\": \"optional, typically has payload\",\n",
            "         \"safe\": \"no, creates or updates data\",\n",
            "         \"idempotent\": \"yes, only the state of the server is considered\",\n",
            "         \"cacheable\": \"no\"\n",
            "      }\n",
            "   }\n",
            "}\n"
          ]
        }
      ],
      "source": [
        "# HTTP PUT with path and payload\n",
        "url = 'https://api.pekkakorpi-tassi.fi/httptest/testing'\n",
        "\n",
        "# HOX: While technically request parameters could be used with PUT requests you should use body for data payload\n",
        "# This kind of requests creates or updates resources, and the data being sent can be complex and not easily represented as key-value pairs in a URL\n",
        "response = requests.put(url, headers=default_headers, data=default_payload)\n",
        "\n",
        "pretty_json_print(response.json())"
      ]
    },
    {
      "cell_type": "markdown",
      "metadata": {
        "id": "mPHskK8lttaq"
      },
      "source": [
        "## HTTP Request POST\n",
        "\n",
        "Text"
      ]
    },
    {
      "cell_type": "code",
      "execution_count": null,
      "metadata": {
        "id": "6A4I-Cudttar"
      },
      "outputs": [],
      "source": [
        "# HTTP POST with path and payload\n",
        "url = 'https://api.pekkakorpi-tassi.fi/httptest/testing'\n",
        "\n",
        "# HOX: While technically request parameters could be used with POST requests you should use body for data payload\n",
        "# This kind of requests creates or updates resources, and the data being sent can be complex and not easily represented as key-value pairs in a URL\n",
        "response = requests.post(url, headers=default_headers, data=default_payload)\n",
        "\n",
        "pretty_json_print(response.json())"
      ]
    },
    {
      "cell_type": "markdown",
      "metadata": {
        "id": "HS_RRJPpttar"
      },
      "source": [
        "## HTTP Request DELETE\n",
        "\n",
        "Text"
      ]
    },
    {
      "cell_type": "code",
      "execution_count": null,
      "metadata": {
        "colab": {
          "base_uri": "https://localhost:8080/"
        },
        "id": "n6klpqClttar",
        "outputId": "611eafb2-5a04-4739-e499-fd4c09debf32"
      },
      "outputs": [
        {
          "name": "stdout",
          "output_type": "stream",
          "text": [
            "{\n",
            "   \"statusCode\": 200,\n",
            "   \"timestamp\": 1705724910,\n",
            "   \"message\": \"handled DELETE request\",\n",
            "   \"breakdown\": {\n",
            "      \"clientip\": \"xxx.106.76.xxx\",\n",
            "      \"clientiptype\": \"IPv4\",\n",
            "      \"useragent\": \"http-request-workshop/colab\",\n",
            "      \"browser\": \"fake browser\",\n",
            "      \"clientsystem\": \"fake os\",\n",
            "      \"method\": \"DELETE\",\n",
            "      \"scheme\": \"https\",\n",
            "      \"protocolVersion\": \"HTTP/1.1\",\n",
            "      \"uri\": \"https://api.pekkakorpi-tassi.fi:443/httptest/testing\",\n",
            "      \"url\": \"https://api.pekkakorpi-tassi.fi:443/httptest/testing\",\n",
            "      \"fqdn\": \"api.pekkakorpi-tassi.fi\",\n",
            "      \"subdomain\": \"api\",\n",
            "      \"secondleveldomain\": \"pekkakorpi-tassi\",\n",
            "      \"topleveldomain\": \"fi\",\n",
            "      \"tcpport\": \"443\",\n",
            "      \"path\": \"/httptest/testing\",\n",
            "      \"resource\": \"\",\n",
            "      \"queryparameters\": \"\",\n",
            "      \"requestbody\": \"\",\n",
            "      \"features\": {\n",
            "         \"description\": \"DELETE HTTP Request ...\",\n",
            "         \"queryparameters\": \"no\",\n",
            "         \"anchor\": \"browser side concept, not used by server\",\n",
            "         \"requestbody\": \"optional\",\n",
            "         \"responsebody\": \"optional\",\n",
            "         \"safe\": \"no\",\n",
            "         \"idempotent\": \"yes\",\n",
            "         \"cacheable\": \"no\"\n",
            "      }\n",
            "   }\n",
            "}\n"
          ]
        }
      ],
      "source": [
        "# HTTP DELETE with path\n",
        "url = 'https://api.pekkakorpi-tassi.fi/httptest/testing'\n",
        "\n",
        "# HOX: While technically request parameters could be used with DELETE requests you normally include the resource ID in the URL path instead\n",
        "response = requests.delete(url, headers=default_headers)\n",
        "\n",
        "pretty_json_print(response.json())"
      ]
    },
    {
      "cell_type": "markdown",
      "metadata": {
        "id": "4v2TbvnN3ftC"
      },
      "source": [
        "## Links\n",
        "\n",
        "- ASDBLAA...\n",
        "\n",
        "## Disclaimer\n",
        "\n",
        "All the information in this notebook is published in good faith and for general information purpose only. I do not make any warranties about the completeness, reliability and accuracy of this information. Any action you take upon the information you find in this notebook, is strictly at your own risk. I will not be liable for any losses and/or damages in connection with the use of materials in this notebook.\n",
        "\n",
        "## License\n",
        "\n",
        "Materials distributed here are made available under the terms of the Creative Commons Attribution Non Commercial No Derivatives 4.0 International License.\n",
        "\n",
        "- [https://creativecommons.org/licenses/by-nc-nd/4.0/deed.en](https://creativecommons.org/licenses/by-nc-nd/4.0/deed.en)"
      ]
    }
  ],
  "metadata": {
    "colab": {
      "provenance": [],
      "toc_visible": true
    },
    "kernelspec": {
      "display_name": "Python (Pyodide)",
      "language": "python",
      "name": "python"
    },
    "language_info": {
      "codemirror_mode": {
        "name": "python",
        "version": 3
      },
      "file_extension": ".py",
      "mimetype": "text/x-python",
      "name": "python",
      "nbconvert_exporter": "python",
      "pygments_lexer": "ipython3",
      "version": "3.8"
    }
  },
  "nbformat": 4,
  "nbformat_minor": 0
}
